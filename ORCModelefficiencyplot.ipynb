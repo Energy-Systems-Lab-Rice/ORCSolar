{
 "cells": [
  {
   "cell_type": "code",
   "execution_count": 3,
   "id": "5b9829df-6333-46d5-af29-da647d9ee10f",
   "metadata": {},
   "outputs": [],
   "source": [
    "import numpy as np\n",
    "import math \n",
    "import matplotlib.pyplot as plt\n",
    "import CoolProp.CoolProp as CP\n",
    "from CoolProp.CoolProp import PropsSI"
   ]
  },
  {
   "cell_type": "code",
   "execution_count": 4,
   "id": "2359c3fa-91bb-4efa-85e1-093fb153c4a3",
   "metadata": {},
   "outputs": [],
   "source": [
    "def TC(T):\n",
    " # converts K to C\n",
    "    TC = T - 273.15\n",
    "    return TC"
   ]
  },
  {
   "cell_type": "code",
   "execution_count": 5,
   "id": "40f577a7-ba8c-4931-917e-25cffdeae59a",
   "metadata": {},
   "outputs": [],
   "source": [
    "def TK(T):\n",
    " # converts C to K\n",
    "    TK = T + 273.15\n",
    "    return TK"
   ]
  },
  {
   "cell_type": "code",
   "execution_count": 11,
   "id": "9380ac89-f66a-4933-a92d-4eef7b23c7ba",
   "metadata": {},
   "outputs": [],
   "source": [
    "#define proper input parameters, give reasonable estimates for temp out of boiler\n",
    "F = 'NHEPTANE' # Fluid Choice\n",
    "#print('GWP100 is ', PropsSI(F,'GWP20'), 'ODP is ', PropsSI(F,'ODP'))\n",
    "\n",
    "inlet_temperatures = []\n",
    "efficiencies = []\n",
    "highT = math.floor(TC(PropsSI('Tcrit', F)))\n",
    "\n",
    "for T1 in range(175,highT):\n",
    "    inlet_temperatures.append(T1)\n",
    "    P1 = PropsSI('P','T|gas',TK(T1),'Q',1, F)#saturated vapor for a dry fluid, units Pa\n",
    "    s1 = PropsSI('S','T|gas',TK(T1),'P',P1, F)\n",
    "    h1 = PropsSI('H','T|gas',TK(T1),'P',P1, F)\n",
    "\n",
    "    # THROUGH CONDENSER\n",
    "    T4 = 35 #also an estimate in C\n",
    "    P4 = PropsSI('P','T|liquid',TK(T4),'Q',0, F)\n",
    "    s4 = PropsSI('S','T|liquid',TK(T4),'P',P4, F)\n",
    "    h4 = PropsSI('H','T|liquid',TK(T4),'P',P4, F)\n",
    "\n",
    "    # THROUGH TURBINE\n",
    "    P2 = P4\n",
    "    # let's 3assume an isentropic efficiency for turbine from Kashif's paper of 85%\n",
    "    nt = 0.85\n",
    "    h2s = PropsSI('H','P',P2,'S',s1, F)\n",
    "    h2a = h1-nt*(h1-h2s)\n",
    "    s2 = PropsSI('S','H',h2a,'P',P2, F)\n",
    "    T2 = PropsSI('T','P',P2,'S',s2, F)\n",
    "\n",
    "    # THROUGH PUMP\n",
    "    P5 = P1\n",
    "    # let's now assume an isentropic efficiency for pump from Kashif's paper of 65%\n",
    "    np = 0.65\n",
    "    h5s = PropsSI('H','P',P5,'S',s4, F)\n",
    "    h5a = h4-np*(h4-h5s)\n",
    "    T5 = PropsSI('T','P',P5,'H',h5a, F)\n",
    "    s5 = PropsSI('S','T|liquid',T5,'P',P5, F)\n",
    "\n",
    "    # THROUGH HXGR\n",
    "    e = 0.9 #hxgr effectiveness, an estimate given by previous research\n",
    "    P3 = P2\n",
    "    P6 = P5\n",
    "    T3 = TK(T2) - e*(TK(T2)-T5)\n",
    "    h3 = PropsSI('H','P',P3,'T',T3, F)\n",
    "    h6 = h2a-h3+h5a\n",
    "    T6 = PropsSI('T','H',h6,'P',P6, F)\n",
    "    s3 = PropsSI('S','T',T3,'P',P3, F)\n",
    "    s6 = PropsSI('S','T',T6,'P',P6, F)\n",
    "\n",
    "    #efficiency calculation\n",
    "    wdot_t = h1-h2a\n",
    "    wdot_p = h5a-h4\n",
    "    q_h = h1-h6\n",
    "    q_c = h3-h4\n",
    "    eta = 100*(-wdot_t+wdot_p)/-q_h\n",
    "    efficiencies.append(eta)"
   ]
  },
  {
   "cell_type": "code",
   "execution_count": 12,
   "id": "374dcacb-492a-4c61-ae9b-ed3ac0aa3f55",
   "metadata": {},
   "outputs": [
    {
     "data": {
      "text/plain": [
       "<function matplotlib.pyplot.show(close=None, block=None)>"
      ]
     },
     "execution_count": 12,
     "metadata": {},
     "output_type": "execute_result"
    },
    {
     "data": {
      "image/png": "[encoded data removed]",
      "text/plain": [
       "<Figure size 432x288 with 1 Axes>"
      ]
     },
     "metadata": {
      "needs_background": "light"
     },
     "output_type": "display_data"
    }
   ],
   "source": [
    "# graph showing efficiencies vs inlet temperature for this selected fluid\n",
    "calibration_x_vals = [181,186,191,196,201,206,211,216,221,226,231,236,241,246,251,256,261,263,266]\n",
    "calibration_y_vals = [22.15,22.60,22.97,23.34,23.73,24.10,24.47,24.77,25.08,25.40,25.70,25.92,26.15,26.40,26.57,26.77,26.82,26.85,26.79]\n",
    "plt.figure\n",
    "plt.plot(calibration_x_vals, calibration_y_vals,'o')\n",
    "plt.plot(inlet_temperatures, efficiencies)\n",
    "plt.xlabel(\"Inlet Temperatures\")\n",
    "plt.ylabel(\"Efficiency\")\n",
    "plt.title('Inlet Temp vs Efficiency for '+F)\n",
    "plt.show"
   ]
  },
  {
   "cell_type": "code",
   "execution_count": null,
   "id": "f5a4421f-8f46-4425-97f3-b331753dd63e",
   "metadata": {},
   "outputs": [],
   "source": []
  }
 ],
 "metadata": {
  "kernelspec": {
   "display_name": "Python 3 (ipykernel)",
   "language": "python",
   "name": "python3"
  },
  "language_info": {
   "codemirror_mode": {
    "name": "ipython",
    "version": 3
   },
   "file_extension": ".py",
   "mimetype": "text/x-python",
   "name": "python",
   "nbconvert_exporter": "python",
   "pygments_lexer": "ipython3",
   "version": "3.9.12"
  }
 },
 "nbformat": 4,
 "nbformat_minor": 5
}
